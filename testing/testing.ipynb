{
 "cells": [
  {
   "cell_type": "code",
   "execution_count": 30,
   "metadata": {},
   "outputs": [],
   "source": [
    "import pandas as pd\n",
    "from matplotlib import pyplot as plt\n",
    "import numpy as np\n",
    "#import seaborn as sns\n",
    "\n",
    "#Configure max columns display\n",
    "pd.set_option('max_columns', 200)\n",
    "\n",
    "df = pd.read_json(path_or_buf='cocktail_dataset.json')"
   ]
  },
  {
   "cell_type": "code",
   "execution_count": 33,
   "metadata": {},
   "outputs": [
    {
     "data": {
      "text/plain": [
       "Index(['id', 'name', 'category', 'glass', 'tags', 'instructions', 'imageUrl',\n",
       "       'alcoholic', 'createdAt', 'updatedAt', 'ingredients'],\n",
       "      dtype='object')"
      ]
     },
     "execution_count": 33,
     "metadata": {},
     "output_type": "execute_result"
    }
   ],
   "source": [
    "df.columns"
   ]
  },
  {
   "cell_type": "code",
   "execution_count": 34,
   "metadata": {},
   "outputs": [
    {
     "data": {
      "text/html": [
       "<div>\n",
       "<style scoped>\n",
       "    .dataframe tbody tr th:only-of-type {\n",
       "        vertical-align: middle;\n",
       "    }\n",
       "\n",
       "    .dataframe tbody tr th {\n",
       "        vertical-align: top;\n",
       "    }\n",
       "\n",
       "    .dataframe thead th {\n",
       "        text-align: right;\n",
       "    }\n",
       "</style>\n",
       "<table border=\"1\" class=\"dataframe\">\n",
       "  <thead>\n",
       "    <tr style=\"text-align: right;\">\n",
       "      <th></th>\n",
       "      <th>id</th>\n",
       "      <th>name</th>\n",
       "      <th>category</th>\n",
       "      <th>glass</th>\n",
       "      <th>tags</th>\n",
       "      <th>instructions</th>\n",
       "      <th>imageUrl</th>\n",
       "      <th>alcoholic</th>\n",
       "      <th>createdAt</th>\n",
       "      <th>updatedAt</th>\n",
       "      <th>ingredients</th>\n",
       "    </tr>\n",
       "  </thead>\n",
       "  <tbody>\n",
       "    <tr>\n",
       "      <th>0</th>\n",
       "      <td>11000</td>\n",
       "      <td>Mojito</td>\n",
       "      <td>Cocktail</td>\n",
       "      <td>Highball glass</td>\n",
       "      <td>[IBA, ContemporaryClassic, Alcoholic, USA, Asi...</td>\n",
       "      <td>Muddle mint leaves with sugar and lime juice. ...</td>\n",
       "      <td>https://cocktails.solvro.pl/images/ingredients...</td>\n",
       "      <td>1</td>\n",
       "      <td>2024-08-18T19:01:17.000+00:00</td>\n",
       "      <td>2024-08-18T19:06:16.000+00:00</td>\n",
       "      <td>[{'id': 170, 'name': 'Soda water', 'descriptio...</td>\n",
       "    </tr>\n",
       "    <tr>\n",
       "      <th>1</th>\n",
       "      <td>11001</td>\n",
       "      <td>Old Fashioned</td>\n",
       "      <td>Cocktail</td>\n",
       "      <td>Old-fashioned glass</td>\n",
       "      <td>[IBA, Classic, Alcoholic, Expensive, Savory]</td>\n",
       "      <td>Place sugar cube in old fashioned glass and sa...</td>\n",
       "      <td>https://cocktails.solvro.pl/images/ingredients...</td>\n",
       "      <td>1</td>\n",
       "      <td>2024-08-18T19:01:58.000+00:00</td>\n",
       "      <td>2024-08-18T19:06:17.000+00:00</td>\n",
       "      <td>[{'id': 513, 'name': 'Water', 'description': '...</td>\n",
       "    </tr>\n",
       "    <tr>\n",
       "      <th>2</th>\n",
       "      <td>11002</td>\n",
       "      <td>Long Island Tea</td>\n",
       "      <td>Ordinary Drink</td>\n",
       "      <td>Highball glass</td>\n",
       "      <td>[Strong, Asia, StrongFlavor, Brunch, Vegetaria...</td>\n",
       "      <td>Combine all ingredients (except cola) and pour...</td>\n",
       "      <td>https://cocktails.solvro.pl/images/ingredients...</td>\n",
       "      <td>1</td>\n",
       "      <td>2024-08-18T19:01:58.000+00:00</td>\n",
       "      <td>2024-08-18T19:06:17.000+00:00</td>\n",
       "      <td>[{'id': 305, 'name': 'Light Rum', 'description...</td>\n",
       "    </tr>\n",
       "    <tr>\n",
       "      <th>3</th>\n",
       "      <td>11003</td>\n",
       "      <td>Negroni</td>\n",
       "      <td>Ordinary Drink</td>\n",
       "      <td>Old-fashioned glass</td>\n",
       "      <td>[IBA, Classic]</td>\n",
       "      <td>Stir into glass over ice, garnish and serve.</td>\n",
       "      <td>https://cocktails.solvro.pl/images/ingredients...</td>\n",
       "      <td>1</td>\n",
       "      <td>2024-08-18T19:01:58.000+00:00</td>\n",
       "      <td>2024-08-18T19:06:17.000+00:00</td>\n",
       "      <td>[{'id': 482, 'name': 'Sweet Vermouth', 'descri...</td>\n",
       "    </tr>\n",
       "    <tr>\n",
       "      <th>4</th>\n",
       "      <td>11004</td>\n",
       "      <td>Whiskey Sour</td>\n",
       "      <td>Ordinary Drink</td>\n",
       "      <td>Old-fashioned glass</td>\n",
       "      <td>[IBA, Classic, Alcoholic, ContemporaryClassic]</td>\n",
       "      <td>Shake with ice. Strain into chilled glass, gar...</td>\n",
       "      <td>https://cocktails.solvro.pl/images/ingredients...</td>\n",
       "      <td>1</td>\n",
       "      <td>2024-08-18T19:01:59.000+00:00</td>\n",
       "      <td>2024-08-18T19:06:18.000+00:00</td>\n",
       "      <td>[{'id': 409, 'name': 'Powdered Sugar', 'descri...</td>\n",
       "    </tr>\n",
       "  </tbody>\n",
       "</table>\n",
       "</div>"
      ],
      "text/plain": [
       "      id             name        category                glass  \\\n",
       "0  11000           Mojito        Cocktail       Highball glass   \n",
       "1  11001    Old Fashioned        Cocktail  Old-fashioned glass   \n",
       "2  11002  Long Island Tea  Ordinary Drink       Highball glass   \n",
       "3  11003          Negroni  Ordinary Drink  Old-fashioned glass   \n",
       "4  11004     Whiskey Sour  Ordinary Drink  Old-fashioned glass   \n",
       "\n",
       "                                                tags  \\\n",
       "0  [IBA, ContemporaryClassic, Alcoholic, USA, Asi...   \n",
       "1       [IBA, Classic, Alcoholic, Expensive, Savory]   \n",
       "2  [Strong, Asia, StrongFlavor, Brunch, Vegetaria...   \n",
       "3                                     [IBA, Classic]   \n",
       "4     [IBA, Classic, Alcoholic, ContemporaryClassic]   \n",
       "\n",
       "                                        instructions  \\\n",
       "0  Muddle mint leaves with sugar and lime juice. ...   \n",
       "1  Place sugar cube in old fashioned glass and sa...   \n",
       "2  Combine all ingredients (except cola) and pour...   \n",
       "3       Stir into glass over ice, garnish and serve.   \n",
       "4  Shake with ice. Strain into chilled glass, gar...   \n",
       "\n",
       "                                            imageUrl  alcoholic  \\\n",
       "0  https://cocktails.solvro.pl/images/ingredients...          1   \n",
       "1  https://cocktails.solvro.pl/images/ingredients...          1   \n",
       "2  https://cocktails.solvro.pl/images/ingredients...          1   \n",
       "3  https://cocktails.solvro.pl/images/ingredients...          1   \n",
       "4  https://cocktails.solvro.pl/images/ingredients...          1   \n",
       "\n",
       "                       createdAt                      updatedAt  \\\n",
       "0  2024-08-18T19:01:17.000+00:00  2024-08-18T19:06:16.000+00:00   \n",
       "1  2024-08-18T19:01:58.000+00:00  2024-08-18T19:06:17.000+00:00   \n",
       "2  2024-08-18T19:01:58.000+00:00  2024-08-18T19:06:17.000+00:00   \n",
       "3  2024-08-18T19:01:58.000+00:00  2024-08-18T19:06:17.000+00:00   \n",
       "4  2024-08-18T19:01:59.000+00:00  2024-08-18T19:06:18.000+00:00   \n",
       "\n",
       "                                         ingredients  \n",
       "0  [{'id': 170, 'name': 'Soda water', 'descriptio...  \n",
       "1  [{'id': 513, 'name': 'Water', 'description': '...  \n",
       "2  [{'id': 305, 'name': 'Light Rum', 'description...  \n",
       "3  [{'id': 482, 'name': 'Sweet Vermouth', 'descri...  \n",
       "4  [{'id': 409, 'name': 'Powdered Sugar', 'descri...  "
      ]
     },
     "execution_count": 34,
     "metadata": {},
     "output_type": "execute_result"
    }
   ],
   "source": [
    "df.head()"
   ]
  },
  {
   "cell_type": "code",
   "execution_count": 36,
   "metadata": {},
   "outputs": [
    {
     "data": {
      "text/plain": [
       "id               int64\n",
       "name            object\n",
       "category        object\n",
       "glass           object\n",
       "tags            object\n",
       "instructions    object\n",
       "imageUrl        object\n",
       "alcoholic        int64\n",
       "createdAt       object\n",
       "updatedAt       object\n",
       "ingredients     object\n",
       "dtype: object"
      ]
     },
     "execution_count": 36,
     "metadata": {},
     "output_type": "execute_result"
    }
   ],
   "source": [
    "df.dtypes"
   ]
  },
  {
   "cell_type": "code",
   "execution_count": 37,
   "metadata": {},
   "outputs": [
    {
     "data": {
      "text/html": [
       "<div>\n",
       "<style scoped>\n",
       "    .dataframe tbody tr th:only-of-type {\n",
       "        vertical-align: middle;\n",
       "    }\n",
       "\n",
       "    .dataframe tbody tr th {\n",
       "        vertical-align: top;\n",
       "    }\n",
       "\n",
       "    .dataframe thead th {\n",
       "        text-align: right;\n",
       "    }\n",
       "</style>\n",
       "<table border=\"1\" class=\"dataframe\">\n",
       "  <thead>\n",
       "    <tr style=\"text-align: right;\">\n",
       "      <th></th>\n",
       "      <th>id</th>\n",
       "      <th>alcoholic</th>\n",
       "    </tr>\n",
       "  </thead>\n",
       "  <tbody>\n",
       "    <tr>\n",
       "      <th>count</th>\n",
       "      <td>134.000000</td>\n",
       "      <td>134.0</td>\n",
       "    </tr>\n",
       "    <tr>\n",
       "      <th>mean</th>\n",
       "      <td>11344.955224</td>\n",
       "      <td>1.0</td>\n",
       "    </tr>\n",
       "    <tr>\n",
       "      <th>std</th>\n",
       "      <td>306.506605</td>\n",
       "      <td>0.0</td>\n",
       "    </tr>\n",
       "    <tr>\n",
       "      <th>min</th>\n",
       "      <td>11000.000000</td>\n",
       "      <td>1.0</td>\n",
       "    </tr>\n",
       "    <tr>\n",
       "      <th>25%</th>\n",
       "      <td>11056.250000</td>\n",
       "      <td>1.0</td>\n",
       "    </tr>\n",
       "    <tr>\n",
       "      <th>50%</th>\n",
       "      <td>11304.000000</td>\n",
       "      <td>1.0</td>\n",
       "    </tr>\n",
       "    <tr>\n",
       "      <th>75%</th>\n",
       "      <td>11538.500000</td>\n",
       "      <td>1.0</td>\n",
       "    </tr>\n",
       "    <tr>\n",
       "      <th>max</th>\n",
       "      <td>11993.000000</td>\n",
       "      <td>1.0</td>\n",
       "    </tr>\n",
       "  </tbody>\n",
       "</table>\n",
       "</div>"
      ],
      "text/plain": [
       "                 id  alcoholic\n",
       "count    134.000000      134.0\n",
       "mean   11344.955224        1.0\n",
       "std      306.506605        0.0\n",
       "min    11000.000000        1.0\n",
       "25%    11056.250000        1.0\n",
       "50%    11304.000000        1.0\n",
       "75%    11538.500000        1.0\n",
       "max    11993.000000        1.0"
      ]
     },
     "execution_count": 37,
     "metadata": {},
     "output_type": "execute_result"
    }
   ],
   "source": [
    "df.describe()"
   ]
  },
  {
   "cell_type": "markdown",
   "metadata": {},
   "source": [
    "### DATA PREPARATION"
   ]
  },
  {
   "cell_type": "code",
   "execution_count": 38,
   "metadata": {},
   "outputs": [
    {
     "data": {
      "text/html": [
       "<div>\n",
       "<style scoped>\n",
       "    .dataframe tbody tr th:only-of-type {\n",
       "        vertical-align: middle;\n",
       "    }\n",
       "\n",
       "    .dataframe tbody tr th {\n",
       "        vertical-align: top;\n",
       "    }\n",
       "\n",
       "    .dataframe thead th {\n",
       "        text-align: right;\n",
       "    }\n",
       "</style>\n",
       "<table border=\"1\" class=\"dataframe\">\n",
       "  <thead>\n",
       "    <tr style=\"text-align: right;\">\n",
       "      <th></th>\n",
       "      <th>id</th>\n",
       "      <th>name</th>\n",
       "      <th>category</th>\n",
       "      <th>glass</th>\n",
       "      <th>tags</th>\n",
       "      <th>instructions</th>\n",
       "      <th>imageUrl</th>\n",
       "      <th>alcoholic</th>\n",
       "      <th>createdAt</th>\n",
       "      <th>updatedAt</th>\n",
       "      <th>ingredients</th>\n",
       "    </tr>\n",
       "  </thead>\n",
       "  <tbody>\n",
       "    <tr>\n",
       "      <th>0</th>\n",
       "      <td>11000</td>\n",
       "      <td>Mojito</td>\n",
       "      <td>Cocktail</td>\n",
       "      <td>Highball glass</td>\n",
       "      <td>[IBA, ContemporaryClassic, Alcoholic, USA, Asi...</td>\n",
       "      <td>Muddle mint leaves with sugar and lime juice. ...</td>\n",
       "      <td>https://cocktails.solvro.pl/images/ingredients...</td>\n",
       "      <td>1</td>\n",
       "      <td>2024-08-18T19:01:17.000+00:00</td>\n",
       "      <td>2024-08-18T19:06:16.000+00:00</td>\n",
       "      <td>[{'id': 170, 'name': 'Soda water', 'descriptio...</td>\n",
       "    </tr>\n",
       "    <tr>\n",
       "      <th>1</th>\n",
       "      <td>11001</td>\n",
       "      <td>Old Fashioned</td>\n",
       "      <td>Cocktail</td>\n",
       "      <td>Old-fashioned glass</td>\n",
       "      <td>[IBA, Classic, Alcoholic, Expensive, Savory]</td>\n",
       "      <td>Place sugar cube in old fashioned glass and sa...</td>\n",
       "      <td>https://cocktails.solvro.pl/images/ingredients...</td>\n",
       "      <td>1</td>\n",
       "      <td>2024-08-18T19:01:58.000+00:00</td>\n",
       "      <td>2024-08-18T19:06:17.000+00:00</td>\n",
       "      <td>[{'id': 513, 'name': 'Water', 'description': '...</td>\n",
       "    </tr>\n",
       "  </tbody>\n",
       "</table>\n",
       "</div>"
      ],
      "text/plain": [
       "      id           name  category                glass  \\\n",
       "0  11000         Mojito  Cocktail       Highball glass   \n",
       "1  11001  Old Fashioned  Cocktail  Old-fashioned glass   \n",
       "\n",
       "                                                tags  \\\n",
       "0  [IBA, ContemporaryClassic, Alcoholic, USA, Asi...   \n",
       "1       [IBA, Classic, Alcoholic, Expensive, Savory]   \n",
       "\n",
       "                                        instructions  \\\n",
       "0  Muddle mint leaves with sugar and lime juice. ...   \n",
       "1  Place sugar cube in old fashioned glass and sa...   \n",
       "\n",
       "                                            imageUrl  alcoholic  \\\n",
       "0  https://cocktails.solvro.pl/images/ingredients...          1   \n",
       "1  https://cocktails.solvro.pl/images/ingredients...          1   \n",
       "\n",
       "                       createdAt                      updatedAt  \\\n",
       "0  2024-08-18T19:01:17.000+00:00  2024-08-18T19:06:16.000+00:00   \n",
       "1  2024-08-18T19:01:58.000+00:00  2024-08-18T19:06:17.000+00:00   \n",
       "\n",
       "                                         ingredients  \n",
       "0  [{'id': 170, 'name': 'Soda water', 'descriptio...  \n",
       "1  [{'id': 513, 'name': 'Water', 'description': '...  "
      ]
     },
     "execution_count": 38,
     "metadata": {},
     "output_type": "execute_result"
    }
   ],
   "source": [
    "df.head(2)"
   ]
  },
  {
   "cell_type": "code",
   "execution_count": 44,
   "metadata": {},
   "outputs": [
    {
     "data": {
      "text/plain": [
       "id                            int64\n",
       "name                         object\n",
       "category                     object\n",
       "glass                        object\n",
       "tags                         object\n",
       "instructions                 object\n",
       "imageUrl                     object\n",
       "alcoholic                     int64\n",
       "createdAt       datetime64[ns, UTC]\n",
       "updatedAt       datetime64[ns, UTC]\n",
       "ingredients                  object\n",
       "dtype: object"
      ]
     },
     "execution_count": 44,
     "metadata": {},
     "output_type": "execute_result"
    }
   ],
   "source": [
    "#Correction of type of columns\n",
    "\n",
    "df['createdAt'] = pd.to_datetime(df['createdAt'])\n",
    "df['updatedAt'] = pd.to_datetime(df['updatedAt'])\n",
    "\n",
    "df.dtypes"
   ]
  },
  {
   "cell_type": "code",
   "execution_count": 55,
   "metadata": {},
   "outputs": [
    {
     "data": {
      "text/plain": [
       "id               0\n",
       "name             0\n",
       "category         0\n",
       "glass            0\n",
       "tags            99\n",
       "instructions     0\n",
       "imageUrl         0\n",
       "alcoholic        0\n",
       "createdAt        0\n",
       "updatedAt        0\n",
       "ingredients      0\n",
       "dtype: int64"
      ]
     },
     "execution_count": 55,
     "metadata": {},
     "output_type": "execute_result"
    }
   ],
   "source": [
    "#Checking rows with missing information\n",
    "df.isna().sum()"
   ]
  },
  {
   "cell_type": "code",
   "execution_count": 56,
   "metadata": {},
   "outputs": [
    {
     "data": {
      "text/plain": [
       "(134, 11)"
      ]
     },
     "execution_count": 56,
     "metadata": {},
     "output_type": "execute_result"
    }
   ],
   "source": [
    "df.shape"
   ]
  },
  {
   "cell_type": "code",
   "execution_count": 62,
   "metadata": {},
   "outputs": [
    {
     "data": {
      "text/html": [
       "<div>\n",
       "<style scoped>\n",
       "    .dataframe tbody tr th:only-of-type {\n",
       "        vertical-align: middle;\n",
       "    }\n",
       "\n",
       "    .dataframe tbody tr th {\n",
       "        vertical-align: top;\n",
       "    }\n",
       "\n",
       "    .dataframe thead th {\n",
       "        text-align: right;\n",
       "    }\n",
       "</style>\n",
       "<table border=\"1\" class=\"dataframe\">\n",
       "  <thead>\n",
       "    <tr style=\"text-align: right;\">\n",
       "      <th></th>\n",
       "      <th>id</th>\n",
       "      <th>name</th>\n",
       "      <th>category</th>\n",
       "      <th>glass</th>\n",
       "      <th>instructions</th>\n",
       "      <th>imageUrl</th>\n",
       "      <th>alcoholic</th>\n",
       "      <th>createdAt</th>\n",
       "      <th>updatedAt</th>\n",
       "      <th>ingredients</th>\n",
       "    </tr>\n",
       "  </thead>\n",
       "  <tbody>\n",
       "    <tr>\n",
       "      <th>0</th>\n",
       "      <td>11000</td>\n",
       "      <td>Mojito</td>\n",
       "      <td>Cocktail</td>\n",
       "      <td>Highball glass</td>\n",
       "      <td>Muddle mint leaves with sugar and lime juice. ...</td>\n",
       "      <td>https://cocktails.solvro.pl/images/ingredients...</td>\n",
       "      <td>1</td>\n",
       "      <td>2024-08-18 19:01:17+00:00</td>\n",
       "      <td>2024-08-18 19:06:16+00:00</td>\n",
       "      <td>[{'id': 170, 'name': 'Soda water', 'descriptio...</td>\n",
       "    </tr>\n",
       "  </tbody>\n",
       "</table>\n",
       "</div>"
      ],
      "text/plain": [
       "      id    name  category           glass  \\\n",
       "0  11000  Mojito  Cocktail  Highball glass   \n",
       "\n",
       "                                        instructions  \\\n",
       "0  Muddle mint leaves with sugar and lime juice. ...   \n",
       "\n",
       "                                            imageUrl  alcoholic  \\\n",
       "0  https://cocktails.solvro.pl/images/ingredients...          1   \n",
       "\n",
       "                  createdAt                 updatedAt  \\\n",
       "0 2024-08-18 19:01:17+00:00 2024-08-18 19:06:16+00:00   \n",
       "\n",
       "                                         ingredients  \n",
       "0  [{'id': 170, 'name': 'Soda water', 'descriptio...  "
      ]
     },
     "execution_count": 62,
     "metadata": {},
     "output_type": "execute_result"
    }
   ],
   "source": [
    "# 99/134 ~= 74% of tags column is missing so we drop this column\n",
    "\n",
    "df = df.drop('tags', axis=1)\n",
    "\n",
    "df.head(1)"
   ]
  },
  {
   "cell_type": "code",
   "execution_count": 67,
   "metadata": {},
   "outputs": [
    {
     "data": {
      "text/plain": [
       "0      True\n",
       "1      True\n",
       "2      True\n",
       "3      True\n",
       "4      True\n",
       "       ... \n",
       "129    True\n",
       "130    True\n",
       "131    True\n",
       "132    True\n",
       "133    True\n",
       "Name: alcoholic, Length: 134, dtype: bool"
      ]
     },
     "execution_count": 67,
     "metadata": {},
     "output_type": "execute_result"
    }
   ],
   "source": [
    "#Replacing alcoholic metric with true false value\n",
    "\n",
    "df.loc[:, 'alcoholic'].apply(lambda a: True if a else False)"
   ]
  },
  {
   "cell_type": "code",
   "execution_count": 69,
   "metadata": {},
   "outputs": [
    {
     "data": {
      "text/plain": [
       "134"
      ]
     },
     "execution_count": 69,
     "metadata": {},
     "output_type": "execute_result"
    }
   ],
   "source": [
    "df.loc[:, 'alcoholic'].sum()"
   ]
  },
  {
   "cell_type": "code",
   "execution_count": null,
   "metadata": {},
   "outputs": [],
   "source": [
    "#Every drink is alcoholic so we can drop this column as well as it does not provide us any additional information\n",
    "\n",
    "df = df.drop('alcoholic', axis=1)"
   ]
  },
  {
   "cell_type": "code",
   "execution_count": 76,
   "metadata": {},
   "outputs": [
    {
     "data": {
      "text/plain": [
       "0      [{'id': 170, 'name': 'Soda water', 'descriptio...\n",
       "1      [{'id': 513, 'name': 'Water', 'description': '...\n",
       "2      [{'id': 305, 'name': 'Light Rum', 'description...\n",
       "3      [{'id': 482, 'name': 'Sweet Vermouth', 'descri...\n",
       "4      [{'id': 409, 'name': 'Powdered Sugar', 'descri...\n",
       "                             ...                        \n",
       "129    [{'id': 305, 'name': 'Light Rum', 'description...\n",
       "130    [{'id': 137, 'name': 'Coffee Brandy', 'descrip...\n",
       "131    [{'id': 250, 'name': 'Grenadine', 'description...\n",
       "132    [{'id': 2, 'name': 'Gin', 'description': 'Gin ...\n",
       "133    [{'id': 179, 'name': 'Dark Rum', 'description'...\n",
       "Name: ingredients, Length: 134, dtype: object"
      ]
     },
     "execution_count": 76,
     "metadata": {},
     "output_type": "execute_result"
    }
   ],
   "source": [
    "df.loc[:, 'ingredients']"
   ]
  },
  {
   "cell_type": "code",
   "execution_count": 81,
   "metadata": {},
   "outputs": [
    {
     "data": {
      "text/plain": [
       "0          id        name                            ...\n",
       "1          id               name                     ...\n",
       "2          id       name                             ...\n",
       "3          id            name                        ...\n",
       "4          id             name                       ...\n",
       "                             ...                        \n",
       "129        id       name                             ...\n",
       "130        id           name                         ...\n",
       "131        id             name                       ...\n",
       "132        id          name                          ...\n",
       "133        id         name                           ...\n",
       "Name: ingredients, Length: 134, dtype: object"
      ]
     },
     "execution_count": 81,
     "metadata": {},
     "output_type": "execute_result"
    }
   ],
   "source": [
    "#Now we try to unpack 'ingredients' column as it seems to be a json format\n",
    "\n",
    "df.loc[:, 'ingredients'] = df.loc[:, 'ingredients'].apply(lambda a: pd.DataFrame(a))\n",
    "\n",
    "df.loc[:, 'ingredients']"
   ]
  },
  {
   "cell_type": "code",
   "execution_count": 86,
   "metadata": {},
   "outputs": [
    {
     "data": {
      "text/html": [
       "<div>\n",
       "<style scoped>\n",
       "    .dataframe tbody tr th:only-of-type {\n",
       "        vertical-align: middle;\n",
       "    }\n",
       "\n",
       "    .dataframe tbody tr th {\n",
       "        vertical-align: top;\n",
       "    }\n",
       "\n",
       "    .dataframe thead th {\n",
       "        text-align: right;\n",
       "    }\n",
       "</style>\n",
       "<table border=\"1\" class=\"dataframe\">\n",
       "  <thead>\n",
       "    <tr style=\"text-align: right;\">\n",
       "      <th></th>\n",
       "      <th>id</th>\n",
       "      <th>name</th>\n",
       "      <th>description</th>\n",
       "      <th>alcohol</th>\n",
       "      <th>type</th>\n",
       "      <th>percentage</th>\n",
       "      <th>imageUrl</th>\n",
       "      <th>createdAt</th>\n",
       "      <th>updatedAt</th>\n",
       "      <th>measure</th>\n",
       "    </tr>\n",
       "  </thead>\n",
       "  <tbody>\n",
       "    <tr>\n",
       "      <th>0</th>\n",
       "      <td>32</td>\n",
       "      <td>Apricot Brandy</td>\n",
       "      <td>None</td>\n",
       "      <td>1</td>\n",
       "      <td>Brandy</td>\n",
       "      <td>24.0</td>\n",
       "      <td>https://cocktails.solvro.pl/images/ingredients...</td>\n",
       "      <td>2024-08-18T19:00:53.000+00:00</td>\n",
       "      <td>2024-08-18T19:01:18.000+00:00</td>\n",
       "      <td>1 oz</td>\n",
       "    </tr>\n",
       "    <tr>\n",
       "      <th>1</th>\n",
       "      <td>312</td>\n",
       "      <td>Lime</td>\n",
       "      <td>A lime (from French lime, from Arabic līma, fr...</td>\n",
       "      <td>0</td>\n",
       "      <td>Fruit</td>\n",
       "      <td>NaN</td>\n",
       "      <td>https://cocktails.solvro.pl/images/ingredients...</td>\n",
       "      <td>2024-08-18T19:02:40.000+00:00</td>\n",
       "      <td>2024-08-18T19:02:40.000+00:00</td>\n",
       "      <td>1</td>\n",
       "    </tr>\n",
       "    <tr>\n",
       "      <th>2</th>\n",
       "      <td>498</td>\n",
       "      <td>Triple Sec</td>\n",
       "      <td>Triple sec, originally Curaçao triple sec, is ...</td>\n",
       "      <td>1</td>\n",
       "      <td>Liqueur</td>\n",
       "      <td>NaN</td>\n",
       "      <td>https://cocktails.solvro.pl/images/ingredients...</td>\n",
       "      <td>2024-08-18T19:03:40.000+00:00</td>\n",
       "      <td>2024-08-18T19:03:40.000+00:00</td>\n",
       "      <td>1 oz</td>\n",
       "    </tr>\n",
       "  </tbody>\n",
       "</table>\n",
       "</div>"
      ],
      "text/plain": [
       "    id            name                                        description  \\\n",
       "0   32  Apricot Brandy                                               None   \n",
       "1  312            Lime  A lime (from French lime, from Arabic līma, fr...   \n",
       "2  498      Triple Sec  Triple sec, originally Curaçao triple sec, is ...   \n",
       "\n",
       "   alcohol     type  percentage  \\\n",
       "0        1   Brandy        24.0   \n",
       "1        0    Fruit         NaN   \n",
       "2        1  Liqueur         NaN   \n",
       "\n",
       "                                            imageUrl  \\\n",
       "0  https://cocktails.solvro.pl/images/ingredients...   \n",
       "1  https://cocktails.solvro.pl/images/ingredients...   \n",
       "2  https://cocktails.solvro.pl/images/ingredients...   \n",
       "\n",
       "                       createdAt                      updatedAt measure  \n",
       "0  2024-08-18T19:00:53.000+00:00  2024-08-18T19:01:18.000+00:00   1 oz   \n",
       "1  2024-08-18T19:02:40.000+00:00  2024-08-18T19:02:40.000+00:00      1   \n",
       "2  2024-08-18T19:03:40.000+00:00  2024-08-18T19:03:40.000+00:00   1 oz   "
      ]
     },
     "execution_count": 86,
     "metadata": {},
     "output_type": "execute_result"
    }
   ],
   "source": [
    "df.loc[10, 'ingredients']"
   ]
  },
  {
   "cell_type": "markdown",
   "metadata": {},
   "source": [
    "# At this point we need to start over because of the found records..."
   ]
  }
 ],
 "metadata": {
  "kernelspec": {
   "display_name": "Python 3",
   "language": "python",
   "name": "python3"
  },
  "language_info": {
   "codemirror_mode": {
    "name": "ipython",
    "version": 3
   },
   "file_extension": ".py",
   "mimetype": "text/x-python",
   "name": "python",
   "nbconvert_exporter": "python",
   "pygments_lexer": "ipython3",
   "version": "3.10.11"
  }
 },
 "nbformat": 4,
 "nbformat_minor": 2
}
