{
 "cells": [
  {
   "cell_type": "code",
   "execution_count": 45,
   "metadata": {},
   "outputs": [],
   "source": [
    "import pandas as pd\n",
    "from matplotlib import pyplot as plt\n",
    "import numpy as np\n",
    "import seaborn as sns\n",
    "\n",
    "#importing own scripts\n",
    "import sys\n",
    "import os\n",
    "current_dir = os.getcwd()\n",
    "sys.path.append(os.path.join(os.path.dirname(current_dir), 'scripts'))\n",
    "import own_scripts\n",
    "\n",
    "#Configure plot style\n",
    "plt.style.use('ggplot')\n",
    "\n",
    "#Configure max columns display\n",
    "pd.set_option('max_columns', 200)\n",
    "\n",
    "#reading raw data\n",
    "df = pd.read_json(path_or_buf='../data/cocktail_dataset.json')"
   ]
  },
  {
   "cell_type": "code",
   "execution_count": 46,
   "metadata": {},
   "outputs": [
    {
     "data": {
      "text/html": [
       "<div>\n",
       "<style scoped>\n",
       "    .dataframe tbody tr th:only-of-type {\n",
       "        vertical-align: middle;\n",
       "    }\n",
       "\n",
       "    .dataframe tbody tr th {\n",
       "        vertical-align: top;\n",
       "    }\n",
       "\n",
       "    .dataframe thead th {\n",
       "        text-align: right;\n",
       "    }\n",
       "</style>\n",
       "<table border=\"1\" class=\"dataframe\">\n",
       "  <thead>\n",
       "    <tr style=\"text-align: right;\">\n",
       "      <th></th>\n",
       "      <th>id</th>\n",
       "      <th>name</th>\n",
       "      <th>description</th>\n",
       "      <th>alcohol</th>\n",
       "      <th>type</th>\n",
       "      <th>percentage</th>\n",
       "      <th>imageUrl</th>\n",
       "      <th>createdAt</th>\n",
       "      <th>updatedAt</th>\n",
       "      <th>measure</th>\n",
       "    </tr>\n",
       "  </thead>\n",
       "  <tbody>\n",
       "    <tr>\n",
       "      <th>0</th>\n",
       "      <td>170</td>\n",
       "      <td>Soda water</td>\n",
       "      <td>None</td>\n",
       "      <td>1</td>\n",
       "      <td>None</td>\n",
       "      <td>NaN</td>\n",
       "      <td>None</td>\n",
       "      <td>2024-08-18T19:01:57.000+00:00</td>\n",
       "      <td>2024-08-18T19:01:57.000+00:00</td>\n",
       "      <td>NaN</td>\n",
       "    </tr>\n",
       "    <tr>\n",
       "      <th>1</th>\n",
       "      <td>305</td>\n",
       "      <td>Light Rum</td>\n",
       "      <td>Light rums, also referred to as \"silver\" or \"w...</td>\n",
       "      <td>1</td>\n",
       "      <td>Rum</td>\n",
       "      <td>NaN</td>\n",
       "      <td>https://cocktails.solvro.pl/images/ingredients...</td>\n",
       "      <td>2024-08-18T19:02:37.000+00:00</td>\n",
       "      <td>2024-08-18T19:02:37.000+00:00</td>\n",
       "      <td>2-3 oz</td>\n",
       "    </tr>\n",
       "    <tr>\n",
       "      <th>2</th>\n",
       "      <td>312</td>\n",
       "      <td>Lime</td>\n",
       "      <td>A lime (from French lime, from Arabic līma, fr...</td>\n",
       "      <td>0</td>\n",
       "      <td>Fruit</td>\n",
       "      <td>NaN</td>\n",
       "      <td>https://cocktails.solvro.pl/images/ingredients...</td>\n",
       "      <td>2024-08-18T19:02:40.000+00:00</td>\n",
       "      <td>2024-08-18T19:02:40.000+00:00</td>\n",
       "      <td>Juice of 1</td>\n",
       "    </tr>\n",
       "    <tr>\n",
       "      <th>3</th>\n",
       "      <td>337</td>\n",
       "      <td>Mint</td>\n",
       "      <td>Lamiaceae (/ˌleɪmiˈeɪsiˌaɪ/ or /ˌleɪmiˈeɪsiiː/...</td>\n",
       "      <td>0</td>\n",
       "      <td>Flower</td>\n",
       "      <td>NaN</td>\n",
       "      <td>https://cocktails.solvro.pl/images/ingredients...</td>\n",
       "      <td>2024-08-18T19:02:47.000+00:00</td>\n",
       "      <td>2024-08-18T19:02:47.000+00:00</td>\n",
       "      <td>2-4</td>\n",
       "    </tr>\n",
       "    <tr>\n",
       "      <th>4</th>\n",
       "      <td>476</td>\n",
       "      <td>Sugar</td>\n",
       "      <td>Sugar is the generic name for sweet-tasting, s...</td>\n",
       "      <td>0</td>\n",
       "      <td>None</td>\n",
       "      <td>NaN</td>\n",
       "      <td>https://cocktails.solvro.pl/images/ingredients...</td>\n",
       "      <td>2024-08-18T19:03:31.000+00:00</td>\n",
       "      <td>2024-08-18T19:03:31.000+00:00</td>\n",
       "      <td>2 tsp</td>\n",
       "    </tr>\n",
       "  </tbody>\n",
       "</table>\n",
       "</div>"
      ],
      "text/plain": [
       "    id        name                                        description  \\\n",
       "0  170  Soda water                                               None   \n",
       "1  305   Light Rum  Light rums, also referred to as \"silver\" or \"w...   \n",
       "2  312        Lime  A lime (from French lime, from Arabic līma, fr...   \n",
       "3  337        Mint  Lamiaceae (/ˌleɪmiˈeɪsiˌaɪ/ or /ˌleɪmiˈeɪsiiː/...   \n",
       "4  476       Sugar  Sugar is the generic name for sweet-tasting, s...   \n",
       "\n",
       "   alcohol    type percentage  \\\n",
       "0        1    None        NaN   \n",
       "1        1     Rum        NaN   \n",
       "2        0   Fruit        NaN   \n",
       "3        0  Flower        NaN   \n",
       "4        0    None        NaN   \n",
       "\n",
       "                                            imageUrl  \\\n",
       "0                                               None   \n",
       "1  https://cocktails.solvro.pl/images/ingredients...   \n",
       "2  https://cocktails.solvro.pl/images/ingredients...   \n",
       "3  https://cocktails.solvro.pl/images/ingredients...   \n",
       "4  https://cocktails.solvro.pl/images/ingredients...   \n",
       "\n",
       "                       createdAt                      updatedAt      measure  \n",
       "0  2024-08-18T19:01:57.000+00:00  2024-08-18T19:01:57.000+00:00          NaN  \n",
       "1  2024-08-18T19:02:37.000+00:00  2024-08-18T19:02:37.000+00:00      2-3 oz   \n",
       "2  2024-08-18T19:02:40.000+00:00  2024-08-18T19:02:40.000+00:00  Juice of 1   \n",
       "3  2024-08-18T19:02:47.000+00:00  2024-08-18T19:02:47.000+00:00         2-4   \n",
       "4  2024-08-18T19:03:31.000+00:00  2024-08-18T19:03:31.000+00:00       2 tsp   "
      ]
     },
     "execution_count": 46,
     "metadata": {},
     "output_type": "execute_result"
    }
   ],
   "source": [
    "#we split data into two\n",
    "\n",
    "ingredients = own_scripts.unpack_data_json(df['ingredients'])\n",
    "\n",
    "ingredients.head(5)"
   ]
  },
  {
   "cell_type": "code",
   "execution_count": 47,
   "metadata": {},
   "outputs": [
    {
     "data": {
      "text/plain": [
       "id               0\n",
       "name             0\n",
       "description    224\n",
       "alcohol          0\n",
       "type           121\n",
       "percentage     431\n",
       "imageUrl         1\n",
       "createdAt        0\n",
       "updatedAt        0\n",
       "measure         35\n",
       "dtype: int64"
      ]
     },
     "execution_count": 47,
     "metadata": {},
     "output_type": "execute_result"
    }
   ],
   "source": [
    "#checking missing records\n",
    "ingredients.isna().sum()"
   ]
  },
  {
   "cell_type": "code",
   "execution_count": 48,
   "metadata": {},
   "outputs": [
    {
     "data": {
      "text/html": [
       "<div>\n",
       "<style scoped>\n",
       "    .dataframe tbody tr th:only-of-type {\n",
       "        vertical-align: middle;\n",
       "    }\n",
       "\n",
       "    .dataframe tbody tr th {\n",
       "        vertical-align: top;\n",
       "    }\n",
       "\n",
       "    .dataframe thead th {\n",
       "        text-align: right;\n",
       "    }\n",
       "</style>\n",
       "<table border=\"1\" class=\"dataframe\">\n",
       "  <thead>\n",
       "    <tr style=\"text-align: right;\">\n",
       "      <th></th>\n",
       "      <th>id</th>\n",
       "      <th>name</th>\n",
       "      <th>description</th>\n",
       "      <th>alcohol</th>\n",
       "      <th>type</th>\n",
       "      <th>percentage</th>\n",
       "      <th>imageUrl</th>\n",
       "      <th>createdAt</th>\n",
       "      <th>updatedAt</th>\n",
       "      <th>measure</th>\n",
       "    </tr>\n",
       "  </thead>\n",
       "  <tbody>\n",
       "    <tr>\n",
       "      <th>1</th>\n",
       "      <td>476</td>\n",
       "      <td>Sugar</td>\n",
       "      <td>Sugar is the generic name for sweet-tasting, s...</td>\n",
       "      <td>0</td>\n",
       "      <td>None</td>\n",
       "      <td>NaN</td>\n",
       "      <td>https://cocktails.solvro.pl/images/ingredients...</td>\n",
       "      <td>2024-08-18T19:03:31.000+00:00</td>\n",
       "      <td>2024-08-18T19:03:31.000+00:00</td>\n",
       "      <td>1 cube</td>\n",
       "    </tr>\n",
       "    <tr>\n",
       "      <th>0</th>\n",
       "      <td>305</td>\n",
       "      <td>Light Rum</td>\n",
       "      <td>Light rums, also referred to as \"silver\" or \"w...</td>\n",
       "      <td>1</td>\n",
       "      <td>Rum</td>\n",
       "      <td>NaN</td>\n",
       "      <td>https://cocktails.solvro.pl/images/ingredients...</td>\n",
       "      <td>2024-08-18T19:02:37.000+00:00</td>\n",
       "      <td>2024-08-18T19:02:37.000+00:00</td>\n",
       "      <td>1/2 oz</td>\n",
       "    </tr>\n",
       "    <tr>\n",
       "      <th>1</th>\n",
       "      <td>2</td>\n",
       "      <td>Gin</td>\n",
       "      <td>Gin is a distilled alcoholic drink that derive...</td>\n",
       "      <td>1</td>\n",
       "      <td>Gin</td>\n",
       "      <td>40.0</td>\n",
       "      <td>https://cocktails.solvro.pl/images/ingredients...</td>\n",
       "      <td>2024-08-18T19:00:44.000+00:00</td>\n",
       "      <td>2024-08-18T19:01:09.000+00:00</td>\n",
       "      <td>1 oz</td>\n",
       "    </tr>\n",
       "    <tr>\n",
       "      <th>1</th>\n",
       "      <td>299</td>\n",
       "      <td>lemon</td>\n",
       "      <td>The lemon, Citrus limon (L.) Osbeck, is a spec...</td>\n",
       "      <td>0</td>\n",
       "      <td>Fruit</td>\n",
       "      <td>NaN</td>\n",
       "      <td>https://cocktails.solvro.pl/images/ingredients...</td>\n",
       "      <td>2024-08-18T19:02:36.000+00:00</td>\n",
       "      <td>2024-08-18T19:02:36.000+00:00</td>\n",
       "      <td>1/2 slice</td>\n",
       "    </tr>\n",
       "    <tr>\n",
       "      <th>1</th>\n",
       "      <td>2</td>\n",
       "      <td>Gin</td>\n",
       "      <td>Gin is a distilled alcoholic drink that derive...</td>\n",
       "      <td>1</td>\n",
       "      <td>Gin</td>\n",
       "      <td>40.0</td>\n",
       "      <td>https://cocktails.solvro.pl/images/ingredients...</td>\n",
       "      <td>2024-08-18T19:00:44.000+00:00</td>\n",
       "      <td>2024-08-18T19:01:09.000+00:00</td>\n",
       "      <td>1 2/3 oz</td>\n",
       "    </tr>\n",
       "  </tbody>\n",
       "</table>\n",
       "</div>"
      ],
      "text/plain": [
       "    id       name                                        description  alcohol  \\\n",
       "1  476      Sugar  Sugar is the generic name for sweet-tasting, s...        0   \n",
       "0  305  Light Rum  Light rums, also referred to as \"silver\" or \"w...        1   \n",
       "1    2        Gin  Gin is a distilled alcoholic drink that derive...        1   \n",
       "1  299      lemon  The lemon, Citrus limon (L.) Osbeck, is a spec...        0   \n",
       "1    2        Gin  Gin is a distilled alcoholic drink that derive...        1   \n",
       "\n",
       "    type percentage                                           imageUrl  \\\n",
       "1   None        NaN  https://cocktails.solvro.pl/images/ingredients...   \n",
       "0    Rum        NaN  https://cocktails.solvro.pl/images/ingredients...   \n",
       "1    Gin       40.0  https://cocktails.solvro.pl/images/ingredients...   \n",
       "1  Fruit        NaN  https://cocktails.solvro.pl/images/ingredients...   \n",
       "1    Gin       40.0  https://cocktails.solvro.pl/images/ingredients...   \n",
       "\n",
       "                       createdAt                      updatedAt     measure  \n",
       "1  2024-08-18T19:03:31.000+00:00  2024-08-18T19:03:31.000+00:00      1 cube  \n",
       "0  2024-08-18T19:02:37.000+00:00  2024-08-18T19:02:37.000+00:00     1/2 oz   \n",
       "1  2024-08-18T19:00:44.000+00:00  2024-08-18T19:01:09.000+00:00       1 oz   \n",
       "1  2024-08-18T19:02:36.000+00:00  2024-08-18T19:02:36.000+00:00  1/2 slice   \n",
       "1  2024-08-18T19:00:44.000+00:00  2024-08-18T19:01:09.000+00:00   1 2/3 oz   "
      ]
     },
     "execution_count": 48,
     "metadata": {},
     "output_type": "execute_result"
    }
   ],
   "source": [
    "# locating duplicated records\n",
    "ingredients.loc[ ingredients.duplicated(subset = ['name']) ].head()"
   ]
  },
  {
   "cell_type": "code",
   "execution_count": 49,
   "metadata": {},
   "outputs": [
    {
     "data": {
      "image/png": "[encoded data removed]",
      "text/plain": [
       "<Figure size 640x480 with 1 Axes>"
      ]
     },
     "metadata": {},
     "output_type": "display_data"
    }
   ],
   "source": [
    "#checking 'updatedAt' column\n",
    "clmn = ingredients['updatedAt']\n",
    "clmn = pd.to_datetime(clmn)\n",
    "\n",
    "ax = clmn.value_counts().head().plot(title='Distribution of updating time', color='blue')\n",
    "ax.set_xlabel('time')\n",
    "ax.set_ylabel('count')\n",
    "plt.show()"
   ]
  },
  {
   "cell_type": "markdown",
   "metadata": {},
   "source": [
    "# Some of the ingredients were used many times. createdAt and updatedAt columns won't be used in analysis as they don't give us any specifics of the igredients (only times when records were updated - useless metadata). The look of each ingredients won't play a big role in analysis as well. If we leave 'id' property untouched we will still be able to locate those records (if there would be a need) - so we will leave 'id' column in our dataframes."
   ]
  },
  {
   "cell_type": "code",
   "execution_count": 50,
   "metadata": {},
   "outputs": [],
   "source": [
    "ingredients = ingredients.drop(columns=['createdAt', 'updatedAt', 'imageUrl'])"
   ]
  },
  {
   "cell_type": "markdown",
   "metadata": {},
   "source": [
    "# As observed before 224 of 531 descriptions are missing. Having in mind we won't analyse texts we have no use of this column."
   ]
  },
  {
   "cell_type": "code",
   "execution_count": 51,
   "metadata": {},
   "outputs": [],
   "source": [
    "ingredients = ingredients.drop(columns=['description'])"
   ]
  },
  {
   "cell_type": "code",
   "execution_count": 52,
   "metadata": {},
   "outputs": [
    {
     "data": {
      "text/html": [
       "<div>\n",
       "<style scoped>\n",
       "    .dataframe tbody tr th:only-of-type {\n",
       "        vertical-align: middle;\n",
       "    }\n",
       "\n",
       "    .dataframe tbody tr th {\n",
       "        vertical-align: top;\n",
       "    }\n",
       "\n",
       "    .dataframe thead th {\n",
       "        text-align: right;\n",
       "    }\n",
       "</style>\n",
       "<table border=\"1\" class=\"dataframe\">\n",
       "  <thead>\n",
       "    <tr style=\"text-align: right;\">\n",
       "      <th></th>\n",
       "      <th>id</th>\n",
       "      <th>name</th>\n",
       "      <th>alcohol</th>\n",
       "      <th>type</th>\n",
       "      <th>percentage</th>\n",
       "      <th>measure</th>\n",
       "    </tr>\n",
       "  </thead>\n",
       "  <tbody>\n",
       "    <tr>\n",
       "      <th>0</th>\n",
       "      <td>170</td>\n",
       "      <td>Soda water</td>\n",
       "      <td>1</td>\n",
       "      <td>None</td>\n",
       "      <td>NaN</td>\n",
       "      <td>NaN</td>\n",
       "    </tr>\n",
       "    <tr>\n",
       "      <th>1</th>\n",
       "      <td>305</td>\n",
       "      <td>Light Rum</td>\n",
       "      <td>1</td>\n",
       "      <td>Rum</td>\n",
       "      <td>NaN</td>\n",
       "      <td>2-3 oz</td>\n",
       "    </tr>\n",
       "    <tr>\n",
       "      <th>2</th>\n",
       "      <td>312</td>\n",
       "      <td>Lime</td>\n",
       "      <td>0</td>\n",
       "      <td>Fruit</td>\n",
       "      <td>NaN</td>\n",
       "      <td>Juice of 1</td>\n",
       "    </tr>\n",
       "    <tr>\n",
       "      <th>3</th>\n",
       "      <td>337</td>\n",
       "      <td>Mint</td>\n",
       "      <td>0</td>\n",
       "      <td>Flower</td>\n",
       "      <td>NaN</td>\n",
       "      <td>2-4</td>\n",
       "    </tr>\n",
       "    <tr>\n",
       "      <th>4</th>\n",
       "      <td>476</td>\n",
       "      <td>Sugar</td>\n",
       "      <td>0</td>\n",
       "      <td>None</td>\n",
       "      <td>NaN</td>\n",
       "      <td>2 tsp</td>\n",
       "    </tr>\n",
       "  </tbody>\n",
       "</table>\n",
       "</div>"
      ],
      "text/plain": [
       "    id        name  alcohol    type percentage      measure\n",
       "0  170  Soda water        1    None        NaN          NaN\n",
       "1  305   Light Rum        1     Rum        NaN      2-3 oz \n",
       "2  312        Lime        0   Fruit        NaN  Juice of 1 \n",
       "3  337        Mint        0  Flower        NaN         2-4 \n",
       "4  476       Sugar        0    None        NaN       2 tsp "
      ]
     },
     "execution_count": 52,
     "metadata": {},
     "output_type": "execute_result"
    }
   ],
   "source": [
    "ingredients.head()"
   ]
  },
  {
   "cell_type": "code",
   "execution_count": 53,
   "metadata": {},
   "outputs": [
    {
     "data": {
      "text/plain": [
       "id              0\n",
       "name            0\n",
       "alcohol         0\n",
       "type          121\n",
       "percentage    431\n",
       "measure        35\n",
       "dtype: int64"
      ]
     },
     "execution_count": 53,
     "metadata": {},
     "output_type": "execute_result"
    }
   ],
   "source": [
    "ingredients.isna().sum()"
   ]
  },
  {
   "cell_type": "code",
   "execution_count": 54,
   "metadata": {},
   "outputs": [
    {
     "data": {
      "text/html": [
       "<div>\n",
       "<style scoped>\n",
       "    .dataframe tbody tr th:only-of-type {\n",
       "        vertical-align: middle;\n",
       "    }\n",
       "\n",
       "    .dataframe tbody tr th {\n",
       "        vertical-align: top;\n",
       "    }\n",
       "\n",
       "    .dataframe thead th {\n",
       "        text-align: right;\n",
       "    }\n",
       "</style>\n",
       "<table border=\"1\" class=\"dataframe\">\n",
       "  <thead>\n",
       "    <tr style=\"text-align: right;\">\n",
       "      <th></th>\n",
       "      <th>id</th>\n",
       "      <th>name</th>\n",
       "      <th>alcohol</th>\n",
       "      <th>type</th>\n",
       "      <th>percentage</th>\n",
       "      <th>measure</th>\n",
       "    </tr>\n",
       "  </thead>\n",
       "  <tbody>\n",
       "    <tr>\n",
       "      <th>0</th>\n",
       "      <td>170</td>\n",
       "      <td>Soda water</td>\n",
       "      <td>1</td>\n",
       "      <td>0</td>\n",
       "      <td>0.0</td>\n",
       "      <td>0</td>\n",
       "    </tr>\n",
       "    <tr>\n",
       "      <th>1</th>\n",
       "      <td>305</td>\n",
       "      <td>Light Rum</td>\n",
       "      <td>1</td>\n",
       "      <td>Rum</td>\n",
       "      <td>0.0</td>\n",
       "      <td>2-3 oz</td>\n",
       "    </tr>\n",
       "    <tr>\n",
       "      <th>2</th>\n",
       "      <td>312</td>\n",
       "      <td>Lime</td>\n",
       "      <td>0</td>\n",
       "      <td>Fruit</td>\n",
       "      <td>0.0</td>\n",
       "      <td>Juice of 1</td>\n",
       "    </tr>\n",
       "    <tr>\n",
       "      <th>3</th>\n",
       "      <td>337</td>\n",
       "      <td>Mint</td>\n",
       "      <td>0</td>\n",
       "      <td>Flower</td>\n",
       "      <td>0.0</td>\n",
       "      <td>2-4</td>\n",
       "    </tr>\n",
       "    <tr>\n",
       "      <th>4</th>\n",
       "      <td>476</td>\n",
       "      <td>Sugar</td>\n",
       "      <td>0</td>\n",
       "      <td>0</td>\n",
       "      <td>0.0</td>\n",
       "      <td>2 tsp</td>\n",
       "    </tr>\n",
       "  </tbody>\n",
       "</table>\n",
       "</div>"
      ],
      "text/plain": [
       "    id        name  alcohol    type  percentage      measure\n",
       "0  170  Soda water        1       0         0.0            0\n",
       "1  305   Light Rum        1     Rum         0.0      2-3 oz \n",
       "2  312        Lime        0   Fruit         0.0  Juice of 1 \n",
       "3  337        Mint        0  Flower         0.0         2-4 \n",
       "4  476       Sugar        0       0         0.0       2 tsp "
      ]
     },
     "execution_count": 54,
     "metadata": {},
     "output_type": "execute_result"
    }
   ],
   "source": [
    "#Correcting type of each characteristic: NaN -> 0\n",
    "\n",
    "for header in ['percentage', 'measure', 'type']:\n",
    "    ingredients[header] = ingredients[header].apply(lambda a: 0 if pd.isna(a) else a)\n",
    "\n",
    "ingredients.head()"
   ]
  },
  {
   "cell_type": "markdown",
   "metadata": {},
   "source": [
    "# Our dataframe have only most important properties of records left. We could map 'alcohol' column to represent this property as 'True' and 'False' but we will leave it as it is for now."
   ]
  },
  {
   "cell_type": "markdown",
   "metadata": {},
   "source": [
    "# Now we will explore properties of this subset"
   ]
  },
  {
   "cell_type": "code",
   "execution_count": 55,
   "metadata": {},
   "outputs": [
    {
     "data": {
      "text/plain": [
       "0          121\n",
       "Liqueur     54\n",
       "Fruit       49\n",
       "Gin         45\n",
       "Juice       40\n",
       "Name: type, dtype: int64"
      ]
     },
     "execution_count": 55,
     "metadata": {},
     "output_type": "execute_result"
    }
   ],
   "source": [
    "ingredients['type'].value_counts().head()"
   ]
  },
  {
   "cell_type": "code",
   "execution_count": 56,
   "metadata": {},
   "outputs": [
    {
     "data": {
      "image/png": "[encoded data removed]",
      "text/plain": [
       "<Figure size 640x480 with 1 Axes>"
      ]
     },
     "metadata": {},
     "output_type": "display_data"
    }
   ],
   "source": [
    "ax = ingredients['type'].value_counts().head(10).plot(kind='barh', title='Top 10 most used types of ingredients', color='green')\n",
    "\n",
    "ax.set_xlabel('counts')\n",
    "ax.set_ylabel('types of ingredients')\n",
    "plt.show()"
   ]
  },
  {
   "cell_type": "code",
   "execution_count": 57,
   "metadata": {},
   "outputs": [
    {
     "data": {
      "image/png": "[encoded data removed]",
      "text/plain": [
       "<Figure size 640x480 with 1 Axes>"
      ]
     },
     "metadata": {},
     "output_type": "display_data"
    }
   ],
   "source": [
    "ax = ingredients['name'].value_counts().head(10).plot(kind='barh', color='grey', title='Top 10 used ingredients')\n",
    "\n",
    "ax.set_xlabel('count')\n",
    "ax.set_ylabel('ingredient')\n",
    "plt.show()"
   ]
  },
  {
   "cell_type": "code",
   "execution_count": 58,
   "metadata": {},
   "outputs": [
    {
     "data": {
      "image/png": "[encoded data removed]",
      "text/plain": [
       "<Figure size 640x480 with 1 Axes>"
      ]
     },
     "metadata": {},
     "output_type": "display_data"
    }
   ],
   "source": [
    "ax = ingredients['alcohol'].value_counts().head(10).plot(kind='bar', color='green', title='Alcohol vs non-alcohol ingredients')\n",
    "\n",
    "ax.set_ylabel('Count of ingredients')\n",
    "ax.set_xlabel('Type')\n",
    "ax.set_xticks([0, 1])\n",
    "#displaying xticks horizontally\n",
    "ax.set_xticklabels(['Alcoholic', 'Non-Alcoholic'], rotation=0)\n",
    "\n",
    "plt.show()"
   ]
  },
  {
   "cell_type": "markdown",
   "metadata": {},
   "source": [
    "# Feature relationship\n",
    "note: 'measure' is not normalized and seems not to be easy to do it - we get rid of it :)\n",
    "(since we have only one numeric characteristic it is not possible to test correlations)"
   ]
  },
  {
   "cell_type": "code",
   "execution_count": 59,
   "metadata": {},
   "outputs": [
    {
     "data": {
      "text/html": [
       "<div>\n",
       "<style scoped>\n",
       "    .dataframe tbody tr th:only-of-type {\n",
       "        vertical-align: middle;\n",
       "    }\n",
       "\n",
       "    .dataframe tbody tr th {\n",
       "        vertical-align: top;\n",
       "    }\n",
       "\n",
       "    .dataframe thead th {\n",
       "        text-align: right;\n",
       "    }\n",
       "</style>\n",
       "<table border=\"1\" class=\"dataframe\">\n",
       "  <thead>\n",
       "    <tr style=\"text-align: right;\">\n",
       "      <th></th>\n",
       "      <th>id</th>\n",
       "      <th>name</th>\n",
       "      <th>alcohol</th>\n",
       "      <th>type</th>\n",
       "      <th>percentage</th>\n",
       "    </tr>\n",
       "  </thead>\n",
       "  <tbody>\n",
       "    <tr>\n",
       "      <th>0</th>\n",
       "      <td>170</td>\n",
       "      <td>Soda water</td>\n",
       "      <td>1</td>\n",
       "      <td>0</td>\n",
       "      <td>0.0</td>\n",
       "    </tr>\n",
       "    <tr>\n",
       "      <th>1</th>\n",
       "      <td>305</td>\n",
       "      <td>Light Rum</td>\n",
       "      <td>1</td>\n",
       "      <td>Rum</td>\n",
       "      <td>0.0</td>\n",
       "    </tr>\n",
       "    <tr>\n",
       "      <th>2</th>\n",
       "      <td>312</td>\n",
       "      <td>Lime</td>\n",
       "      <td>0</td>\n",
       "      <td>Fruit</td>\n",
       "      <td>0.0</td>\n",
       "    </tr>\n",
       "    <tr>\n",
       "      <th>3</th>\n",
       "      <td>337</td>\n",
       "      <td>Mint</td>\n",
       "      <td>0</td>\n",
       "      <td>Flower</td>\n",
       "      <td>0.0</td>\n",
       "    </tr>\n",
       "    <tr>\n",
       "      <th>4</th>\n",
       "      <td>476</td>\n",
       "      <td>Sugar</td>\n",
       "      <td>0</td>\n",
       "      <td>0</td>\n",
       "      <td>0.0</td>\n",
       "    </tr>\n",
       "  </tbody>\n",
       "</table>\n",
       "</div>"
      ],
      "text/plain": [
       "    id        name  alcohol    type  percentage\n",
       "0  170  Soda water        1       0         0.0\n",
       "1  305   Light Rum        1     Rum         0.0\n",
       "2  312        Lime        0   Fruit         0.0\n",
       "3  337        Mint        0  Flower         0.0\n",
       "4  476       Sugar        0       0         0.0"
      ]
     },
     "execution_count": 59,
     "metadata": {},
     "output_type": "execute_result"
    }
   ],
   "source": [
    "ingredients = ingredients.drop(columns=['measure'])\n",
    "ingredients.head()"
   ]
  },
  {
   "cell_type": "markdown",
   "metadata": {},
   "source": [
    "$\\textcolor{lightgreen}{\\text{Q: What's the average percentage?}}$"
   ]
  },
  {
   "cell_type": "code",
   "execution_count": 67,
   "metadata": {},
   "outputs": [
    {
     "name": "stdout",
     "output_type": "stream",
     "text": [
      "Average percentage per ingredient is:  6.79\n"
     ]
    }
   ],
   "source": [
    "print('Average percentage per ingredient is: ', ingredients['percentage'].mean().round(2))"
   ]
  }
 ],
 "metadata": {
  "kernelspec": {
   "display_name": "Python 3",
   "language": "python",
   "name": "python3"
  },
  "language_info": {
   "codemirror_mode": {
    "name": "ipython",
    "version": 3
   },
   "file_extension": ".py",
   "mimetype": "text/x-python",
   "name": "python",
   "nbconvert_exporter": "python",
   "pygments_lexer": "ipython3",
   "version": "3.10.11"
  }
 },
 "nbformat": 4,
 "nbformat_minor": 2
}
