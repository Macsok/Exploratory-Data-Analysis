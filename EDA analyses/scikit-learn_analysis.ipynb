{
 "cells": [
  {
   "cell_type": "code",
   "execution_count": 7,
   "metadata": {},
   "outputs": [],
   "source": [
    "import pandas as pd\n",
    "from matplotlib import pyplot as plt\n",
    "import seaborn as sns\n",
    "\n",
    "# scikit-learn modules\n",
    "from sklearn.feature_extraction.text import CountVectorizer\n",
    "from sklearn.cluster import KMeans\n",
    "\n",
    "#importing own scripts\n",
    "import sys\n",
    "import os\n",
    "current_dir = os.getcwd()\n",
    "sys.path.append(os.path.join(os.path.dirname(current_dir), 'scripts'))\n",
    "import own_scripts\n",
    "\n",
    "#reading raw data\n",
    "df = pd.read_json(path_or_buf='../data/cocktail_dataset.json')"
   ]
  },
  {
   "cell_type": "code",
   "execution_count": 8,
   "metadata": {},
   "outputs": [],
   "source": [
    "# preprocessing of dataset as in previous our analyses\n",
    "df, ingredients = own_scripts.dataset_preprocessing(df)\n",
    "ingredients_names = own_scripts.ingredients_to_names(ingredients, df['ingredientsID'])\n",
    "\n",
    "# updating and renaming column\n",
    "df['ingredientsID'] = ingredients_names\n",
    "df.rename(columns={'ingredientsID': 'ingredients'}, inplace=True)"
   ]
  },
  {
   "cell_type": "markdown",
   "metadata": {},
   "source": [
    "# Vectorizing ingredients list"
   ]
  },
  {
   "cell_type": "code",
   "execution_count": 12,
   "metadata": {},
   "outputs": [],
   "source": [
    "# vectorizing\n",
    "vectorizer = CountVectorizer()\n",
    "ingredient_matrix = vectorizer.fit_transform(df['ingredients'])\n",
    "\n",
    "names_df = pd.DataFrame(ingredient_matrix.toarray(), columns = vectorizer.get_feature_names_out())"
   ]
  },
  {
   "cell_type": "code",
   "execution_count": 13,
   "metadata": {},
   "outputs": [
    {
     "name": "stderr",
     "output_type": "stream",
     "text": [
      "C:\\Users\\01sok\\AppData\\Local\\Packages\\PythonSoftwareFoundation.Python.3.10_qbz5n2kfra8p0\\LocalCache\\local-packages\\Python310\\site-packages\\sklearn\\cluster\\_kmeans.py:1416: FutureWarning: The default value of `n_init` will change from 10 to 'auto' in 1.4. Set the value of `n_init` explicitly to suppress the warning\n",
      "  super()._check_params_vs_input(X, default_n_init=10)\n"
     ]
    },
    {
     "data": {
      "text/html": [
       "<div>\n",
       "<style scoped>\n",
       "    .dataframe tbody tr th:only-of-type {\n",
       "        vertical-align: middle;\n",
       "    }\n",
       "\n",
       "    .dataframe tbody tr th {\n",
       "        vertical-align: top;\n",
       "    }\n",
       "\n",
       "    .dataframe thead th {\n",
       "        text-align: right;\n",
       "    }\n",
       "</style>\n",
       "<table border=\"1\" class=\"dataframe\">\n",
       "  <thead>\n",
       "    <tr style=\"text-align: right;\">\n",
       "      <th></th>\n",
       "      <th>id</th>\n",
       "      <th>name</th>\n",
       "      <th>category</th>\n",
       "      <th>glass</th>\n",
       "      <th>instructions</th>\n",
       "      <th>ingredients</th>\n",
       "      <th>cluster</th>\n",
       "    </tr>\n",
       "  </thead>\n",
       "  <tbody>\n",
       "    <tr>\n",
       "      <th>0</th>\n",
       "      <td>11000</td>\n",
       "      <td>Mojito</td>\n",
       "      <td>Cocktail</td>\n",
       "      <td>Highball glass</td>\n",
       "      <td>Muddle mint leaves with sugar and lime juice. ...</td>\n",
       "      <td>Soda water, Light Rum, Lime, Mint, Sugar</td>\n",
       "      <td>0</td>\n",
       "    </tr>\n",
       "    <tr>\n",
       "      <th>1</th>\n",
       "      <td>11001</td>\n",
       "      <td>Old Fashioned</td>\n",
       "      <td>Cocktail</td>\n",
       "      <td>Old-fashioned glass</td>\n",
       "      <td>Place sugar cube in old fashioned glass and sa...</td>\n",
       "      <td>Water, Sugar, Angostura Bitters, Bourbon</td>\n",
       "      <td>1</td>\n",
       "    </tr>\n",
       "    <tr>\n",
       "      <th>2</th>\n",
       "      <td>11002</td>\n",
       "      <td>Long Island Tea</td>\n",
       "      <td>Ordinary Drink</td>\n",
       "      <td>Highball glass</td>\n",
       "      <td>Combine all ingredients (except cola) and pour...</td>\n",
       "      <td>Light Rum, lemon, Vodka, Gin, Tequila, Coca-Cola</td>\n",
       "      <td>0</td>\n",
       "    </tr>\n",
       "    <tr>\n",
       "      <th>3</th>\n",
       "      <td>11003</td>\n",
       "      <td>Negroni</td>\n",
       "      <td>Ordinary Drink</td>\n",
       "      <td>Old-fashioned glass</td>\n",
       "      <td>Stir into glass over ice, garnish and serve.</td>\n",
       "      <td>Sweet Vermouth, Gin, Campari</td>\n",
       "      <td>0</td>\n",
       "    </tr>\n",
       "    <tr>\n",
       "      <th>4</th>\n",
       "      <td>11004</td>\n",
       "      <td>Whiskey Sour</td>\n",
       "      <td>Ordinary Drink</td>\n",
       "      <td>Old-fashioned glass</td>\n",
       "      <td>Shake with ice. Strain into chilled glass, gar...</td>\n",
       "      <td>Powdered Sugar, lemon, Blended Whiskey, Cherry</td>\n",
       "      <td>1</td>\n",
       "    </tr>\n",
       "  </tbody>\n",
       "</table>\n",
       "</div>"
      ],
      "text/plain": [
       "      id             name        category                glass  \\\n",
       "0  11000           Mojito        Cocktail       Highball glass   \n",
       "1  11001    Old Fashioned        Cocktail  Old-fashioned glass   \n",
       "2  11002  Long Island Tea  Ordinary Drink       Highball glass   \n",
       "3  11003          Negroni  Ordinary Drink  Old-fashioned glass   \n",
       "4  11004     Whiskey Sour  Ordinary Drink  Old-fashioned glass   \n",
       "\n",
       "                                        instructions  \\\n",
       "0  Muddle mint leaves with sugar and lime juice. ...   \n",
       "1  Place sugar cube in old fashioned glass and sa...   \n",
       "2  Combine all ingredients (except cola) and pour...   \n",
       "3       Stir into glass over ice, garnish and serve.   \n",
       "4  Shake with ice. Strain into chilled glass, gar...   \n",
       "\n",
       "                                        ingredients  cluster  \n",
       "0          Soda water, Light Rum, Lime, Mint, Sugar        0  \n",
       "1          Water, Sugar, Angostura Bitters, Bourbon        1  \n",
       "2  Light Rum, lemon, Vodka, Gin, Tequila, Coca-Cola        0  \n",
       "3                      Sweet Vermouth, Gin, Campari        0  \n",
       "4    Powdered Sugar, lemon, Blended Whiskey, Cherry        1  "
      ]
     },
     "metadata": {},
     "output_type": "display_data"
    }
   ],
   "source": [
    "# Model klasteryzacji\n",
    "kmeans = KMeans(n_clusters=2)\n",
    "df['cluster'] = kmeans.fit_predict(ingredient_matrix)\n",
    "\n",
    "display(df.head())"
   ]
  }
 ],
 "metadata": {
  "kernelspec": {
   "display_name": "Python 3",
   "language": "python",
   "name": "python3"
  },
  "language_info": {
   "codemirror_mode": {
    "name": "ipython",
    "version": 3
   },
   "file_extension": ".py",
   "mimetype": "text/x-python",
   "name": "python",
   "nbconvert_exporter": "python",
   "pygments_lexer": "ipython3",
   "version": "3.10.11"
  }
 },
 "nbformat": 4,
 "nbformat_minor": 2
}
