{
 "cells": [
  {
   "cell_type": "code",
   "execution_count": 5,
   "metadata": {},
   "outputs": [],
   "source": [
    "import pandas as pd\n",
    "\n",
    "#importing own scripts\n",
    "import sys\n",
    "import os\n",
    "sys.path.append(os.path.join(os.path.dirname( os.getcwd() ), 'scripts'))\n",
    "import own_scripts\n",
    "\n",
    "#reading raw data\n",
    "df = pd.read_json(path_or_buf='../data/cocktail_dataset.json')"
   ]
  },
  {
   "cell_type": "markdown",
   "metadata": {},
   "source": [
    "# Preprocessing"
   ]
  },
  {
   "cell_type": "code",
   "execution_count": 2,
   "metadata": {},
   "outputs": [],
   "source": [
    "# preprocessing of dataset as in previous our analyses\n",
    "df, ingredients = own_scripts.dataset_preprocessing(df)\n",
    "ingredients_names = own_scripts.ingredients_to_names(ingredients, df['ingredientsID'])\n",
    "\n",
    "# updating and renaming column\n",
    "df['ingredientsID'] = ingredients_names\n",
    "df.rename(columns={'ingredientsID': 'ingredients'}, inplace=True)"
   ]
  },
  {
   "cell_type": "markdown",
   "metadata": {},
   "source": [
    "# Dividing into clusters by ingredients list"
   ]
  },
  {
   "cell_type": "code",
   "execution_count": 3,
   "metadata": {},
   "outputs": [
    {
     "name": "stderr",
     "output_type": "stream",
     "text": [
      "C:\\Users\\01sok\\AppData\\Local\\Packages\\PythonSoftwareFoundation.Python.3.10_qbz5n2kfra8p0\\LocalCache\\local-packages\\Python310\\site-packages\\sklearn\\cluster\\_kmeans.py:1416: FutureWarning: The default value of `n_init` will change from 10 to 'auto' in 1.4. Set the value of `n_init` explicitly to suppress the warning\n",
      "  super()._check_params_vs_input(X, default_n_init=10)\n"
     ]
    },
    {
     "data": {
      "text/html": [
       "<div>\n",
       "<style scoped>\n",
       "    .dataframe tbody tr th:only-of-type {\n",
       "        vertical-align: middle;\n",
       "    }\n",
       "\n",
       "    .dataframe tbody tr th {\n",
       "        vertical-align: top;\n",
       "    }\n",
       "\n",
       "    .dataframe thead th {\n",
       "        text-align: right;\n",
       "    }\n",
       "</style>\n",
       "<table border=\"1\" class=\"dataframe\">\n",
       "  <thead>\n",
       "    <tr style=\"text-align: right;\">\n",
       "      <th></th>\n",
       "      <th>id</th>\n",
       "      <th>name</th>\n",
       "      <th>category</th>\n",
       "      <th>glass</th>\n",
       "      <th>instructions</th>\n",
       "      <th>ingredients</th>\n",
       "      <th>cluster</th>\n",
       "    </tr>\n",
       "  </thead>\n",
       "  <tbody>\n",
       "    <tr>\n",
       "      <th>0</th>\n",
       "      <td>11000</td>\n",
       "      <td>Mojito</td>\n",
       "      <td>Cocktail</td>\n",
       "      <td>Highball glass</td>\n",
       "      <td>Muddle mint leaves with sugar and lime juice. ...</td>\n",
       "      <td>Soda water, Light Rum, Lime, Mint, Sugar</td>\n",
       "      <td>4</td>\n",
       "    </tr>\n",
       "    <tr>\n",
       "      <th>1</th>\n",
       "      <td>11001</td>\n",
       "      <td>Old Fashioned</td>\n",
       "      <td>Cocktail</td>\n",
       "      <td>Old-fashioned glass</td>\n",
       "      <td>Place sugar cube in old fashioned glass and sa...</td>\n",
       "      <td>Water, Sugar, Angostura Bitters, Bourbon</td>\n",
       "      <td>4</td>\n",
       "    </tr>\n",
       "    <tr>\n",
       "      <th>2</th>\n",
       "      <td>11002</td>\n",
       "      <td>Long Island Tea</td>\n",
       "      <td>Ordinary Drink</td>\n",
       "      <td>Highball glass</td>\n",
       "      <td>Combine all ingredients (except cola) and pour...</td>\n",
       "      <td>Light Rum, lemon, Vodka, Gin, Tequila, Coca-Cola</td>\n",
       "      <td>4</td>\n",
       "    </tr>\n",
       "    <tr>\n",
       "      <th>3</th>\n",
       "      <td>11003</td>\n",
       "      <td>Negroni</td>\n",
       "      <td>Ordinary Drink</td>\n",
       "      <td>Old-fashioned glass</td>\n",
       "      <td>Stir into glass over ice, garnish and serve.</td>\n",
       "      <td>Sweet Vermouth, Gin, Campari</td>\n",
       "      <td>3</td>\n",
       "    </tr>\n",
       "    <tr>\n",
       "      <th>4</th>\n",
       "      <td>11004</td>\n",
       "      <td>Whiskey Sour</td>\n",
       "      <td>Ordinary Drink</td>\n",
       "      <td>Old-fashioned glass</td>\n",
       "      <td>Shake with ice. Strain into chilled glass, gar...</td>\n",
       "      <td>Powdered Sugar, lemon, Blended Whiskey, Cherry</td>\n",
       "      <td>1</td>\n",
       "    </tr>\n",
       "  </tbody>\n",
       "</table>\n",
       "</div>"
      ],
      "text/plain": [
       "      id             name        category                glass  \\\n",
       "0  11000           Mojito        Cocktail       Highball glass   \n",
       "1  11001    Old Fashioned        Cocktail  Old-fashioned glass   \n",
       "2  11002  Long Island Tea  Ordinary Drink       Highball glass   \n",
       "3  11003          Negroni  Ordinary Drink  Old-fashioned glass   \n",
       "4  11004     Whiskey Sour  Ordinary Drink  Old-fashioned glass   \n",
       "\n",
       "                                        instructions  \\\n",
       "0  Muddle mint leaves with sugar and lime juice. ...   \n",
       "1  Place sugar cube in old fashioned glass and sa...   \n",
       "2  Combine all ingredients (except cola) and pour...   \n",
       "3       Stir into glass over ice, garnish and serve.   \n",
       "4  Shake with ice. Strain into chilled glass, gar...   \n",
       "\n",
       "                                        ingredients  cluster  \n",
       "0          Soda water, Light Rum, Lime, Mint, Sugar        4  \n",
       "1          Water, Sugar, Angostura Bitters, Bourbon        4  \n",
       "2  Light Rum, lemon, Vodka, Gin, Tequila, Coca-Cola        4  \n",
       "3                      Sweet Vermouth, Gin, Campari        3  \n",
       "4    Powdered Sugar, lemon, Blended Whiskey, Cherry        1  "
      ]
     },
     "execution_count": 3,
     "metadata": {},
     "output_type": "execute_result"
    }
   ],
   "source": [
    "df['cluster'] = own_scripts.clusterization(df, 5)\n",
    "df.head()"
   ]
  },
  {
   "cell_type": "markdown",
   "metadata": {},
   "source": [
    "# Recommending similar cocktails"
   ]
  },
  {
   "cell_type": "code",
   "execution_count": 4,
   "metadata": {},
   "outputs": [
    {
     "name": "stdout",
     "output_type": "stream",
     "text": [
      "Your cocktail:\n"
     ]
    },
    {
     "data": {
      "text/html": [
       "<div>\n",
       "<style scoped>\n",
       "    .dataframe tbody tr th:only-of-type {\n",
       "        vertical-align: middle;\n",
       "    }\n",
       "\n",
       "    .dataframe tbody tr th {\n",
       "        vertical-align: top;\n",
       "    }\n",
       "\n",
       "    .dataframe thead th {\n",
       "        text-align: right;\n",
       "    }\n",
       "</style>\n",
       "<table border=\"1\" class=\"dataframe\">\n",
       "  <thead>\n",
       "    <tr style=\"text-align: right;\">\n",
       "      <th></th>\n",
       "      <th>id</th>\n",
       "      <th>name</th>\n",
       "      <th>category</th>\n",
       "      <th>glass</th>\n",
       "      <th>instructions</th>\n",
       "      <th>ingredients</th>\n",
       "      <th>cluster</th>\n",
       "    </tr>\n",
       "  </thead>\n",
       "  <tbody>\n",
       "    <tr>\n",
       "      <th>108</th>\n",
       "      <td>11658</td>\n",
       "      <td>Loch Lomond</td>\n",
       "      <td>Ordinary Drink</td>\n",
       "      <td>Cocktail glass</td>\n",
       "      <td>In a mixing glass half-filled with ice cubes, ...</td>\n",
       "      <td>Scotch, Drambuie, Dry Vermouth, Lemon Peel</td>\n",
       "      <td>3</td>\n",
       "    </tr>\n",
       "  </tbody>\n",
       "</table>\n",
       "</div>"
      ],
      "text/plain": [
       "        id         name        category           glass  \\\n",
       "108  11658  Loch Lomond  Ordinary Drink  Cocktail glass   \n",
       "\n",
       "                                          instructions  \\\n",
       "108  In a mixing glass half-filled with ice cubes, ...   \n",
       "\n",
       "                                    ingredients  cluster  \n",
       "108  Scotch, Drambuie, Dry Vermouth, Lemon Peel        3  "
      ]
     },
     "metadata": {},
     "output_type": "display_data"
    },
    {
     "name": "stdout",
     "output_type": "stream",
     "text": [
      "Suggested coctails (most similar at the top):\n"
     ]
    },
    {
     "data": {
      "text/html": [
       "<div>\n",
       "<style scoped>\n",
       "    .dataframe tbody tr th:only-of-type {\n",
       "        vertical-align: middle;\n",
       "    }\n",
       "\n",
       "    .dataframe tbody tr th {\n",
       "        vertical-align: top;\n",
       "    }\n",
       "\n",
       "    .dataframe thead th {\n",
       "        text-align: right;\n",
       "    }\n",
       "</style>\n",
       "<table border=\"1\" class=\"dataframe\">\n",
       "  <thead>\n",
       "    <tr style=\"text-align: right;\">\n",
       "      <th></th>\n",
       "      <th>id</th>\n",
       "      <th>name</th>\n",
       "      <th>category</th>\n",
       "      <th>glass</th>\n",
       "      <th>instructions</th>\n",
       "      <th>ingredients</th>\n",
       "      <th>cluster</th>\n",
       "    </tr>\n",
       "  </thead>\n",
       "  <tbody>\n",
       "    <tr>\n",
       "      <th>0</th>\n",
       "      <td>11324</td>\n",
       "      <td>Dry Rob Roy</td>\n",
       "      <td>Ordinary Drink</td>\n",
       "      <td>Cocktail glass</td>\n",
       "      <td>In a mixing glass half-filled with ice cubes, ...</td>\n",
       "      <td>Scotch, Dry Vermouth, Lemon Peel</td>\n",
       "      <td>3</td>\n",
       "    </tr>\n",
       "    <tr>\n",
       "      <th>1</th>\n",
       "      <td>11121</td>\n",
       "      <td>Bobby Burns Cocktail</td>\n",
       "      <td>Ordinary Drink</td>\n",
       "      <td>Cocktail glass</td>\n",
       "      <td>Stir all ingredients (except lemon peel) with ...</td>\n",
       "      <td>Scotch, Benedictine, Lemon Peel, Sweet Vermouth</td>\n",
       "      <td>3</td>\n",
       "    </tr>\n",
       "    <tr>\n",
       "      <th>2</th>\n",
       "      <td>11021</td>\n",
       "      <td>Allegheny</td>\n",
       "      <td>Ordinary Drink</td>\n",
       "      <td>Cocktail glass</td>\n",
       "      <td>Shake all ingredients (except lemon peel) with...</td>\n",
       "      <td>Blackberry Brandy, Bourbon, Dry Vermouth, Lemo...</td>\n",
       "      <td>3</td>\n",
       "    </tr>\n",
       "  </tbody>\n",
       "</table>\n",
       "</div>"
      ],
      "text/plain": [
       "      id                  name        category           glass  \\\n",
       "0  11324           Dry Rob Roy  Ordinary Drink  Cocktail glass   \n",
       "1  11121  Bobby Burns Cocktail  Ordinary Drink  Cocktail glass   \n",
       "2  11021             Allegheny  Ordinary Drink  Cocktail glass   \n",
       "\n",
       "                                        instructions  \\\n",
       "0  In a mixing glass half-filled with ice cubes, ...   \n",
       "1  Stir all ingredients (except lemon peel) with ...   \n",
       "2  Shake all ingredients (except lemon peel) with...   \n",
       "\n",
       "                                         ingredients  cluster  \n",
       "0                   Scotch, Dry Vermouth, Lemon Peel        3  \n",
       "1    Scotch, Benedictine, Lemon Peel, Sweet Vermouth        3  \n",
       "2  Blackberry Brandy, Bourbon, Dry Vermouth, Lemo...        3  "
      ]
     },
     "metadata": {},
     "output_type": "display_data"
    }
   ],
   "source": [
    "# specify base cocktail\n",
    "similar_to = 'Loch Lomond'\n",
    "\n",
    "#----------------------------------------\n",
    "own_scripts.print_similar_cocktails(df, similar_to)"
   ]
  },
  {
   "cell_type": "markdown",
   "metadata": {},
   "source": [
    "#### Observation: In most of the suggestions clusters are the same as in the original drink."
   ]
  }
 ],
 "metadata": {
  "kernelspec": {
   "display_name": "Python 3",
   "language": "python",
   "name": "python3"
  },
  "language_info": {
   "codemirror_mode": {
    "name": "ipython",
    "version": 3
   },
   "file_extension": ".py",
   "mimetype": "text/x-python",
   "name": "python",
   "nbconvert_exporter": "python",
   "pygments_lexer": "ipython3",
   "version": "3.10.11"
  }
 },
 "nbformat": 4,
 "nbformat_minor": 2
}
